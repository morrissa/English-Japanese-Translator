{
 "cells": [
  {
   "cell_type": "markdown",
   "metadata": {},
   "source": [
    "## This is my adaption of the Keras blog language translation introduction using sequence to sequence learning\n",
    "\n",
    "## Instead of French I am using English to Japanese as I am currently learning Japanese\n",
    "\n",
    "## I also included some custom text profilers and loaders I developed for this quick prototype\n",
    "\n",
    "## I am also using GPU driven LSTMs instead of vanilla LSTMs as to increase training speed"
   ]
  },
  {
   "cell_type": "code",
   "execution_count": 1,
   "metadata": {},
   "outputs": [
    {
     "name": "stderr",
     "output_type": "stream",
     "text": [
      "c:\\users\\samorris\\anaconda3\\lib\\site-packages\\h5py\\__init__.py:36: FutureWarning: Conversion of the second argument of issubdtype from `float` to `np.floating` is deprecated. In future, it will be treated as `np.float64 == np.dtype(float).type`.\n",
      "  from ._conv import register_converters as _register_converters\n",
      "Using TensorFlow backend.\n"
     ]
    }
   ],
   "source": [
    "from keras.models import Model\n",
    "from keras.layers import Input, CuDNNLSTM, Dense\n",
    "import matplotlib.pyplot as plt\n",
    "import numpy as np\n",
    "import re"
   ]
  },
  {
   "cell_type": "code",
   "execution_count": 2,
   "metadata": {},
   "outputs": [
    {
     "data": {
      "text/plain": [
       "['/job:localhost/replica:0/task:0/device:GPU:0',\n",
       " '/job:localhost/replica:0/task:0/device:GPU:1']"
      ]
     },
     "execution_count": 2,
     "metadata": {},
     "output_type": "execute_result"
    }
   ],
   "source": [
    "from keras import backend as K\n",
    "K.tensorflow_backend._get_available_gpus()"
   ]
  },
  {
   "cell_type": "code",
   "execution_count": 3,
   "metadata": {},
   "outputs": [],
   "source": [
    "# Path to the data txt file on disk.\n",
    "data_path = 'Japanese-Data/jpn.txt'"
   ]
  },
  {
   "cell_type": "code",
   "execution_count": 4,
   "metadata": {},
   "outputs": [],
   "source": [
    "### Profile some data"
   ]
  },
  {
   "cell_type": "code",
   "execution_count": 5,
   "metadata": {},
   "outputs": [],
   "source": [
    "def load_text(data_path): \n",
    "    with open(data_path,'r', encoding='utf-8') as f:\n",
    "        data = f.readlines()\n",
    "    print(\"There are {} lines in the text\".format(len(data)))\n",
    "    return data"
   ]
  },
  {
   "cell_type": "code",
   "execution_count": 6,
   "metadata": {},
   "outputs": [
    {
     "name": "stdout",
     "output_type": "stream",
     "text": [
      "There are 42992 lines in the text\n"
     ]
    }
   ],
   "source": [
    "data = load_text(data_path)"
   ]
  },
  {
   "cell_type": "code",
   "execution_count": 7,
   "metadata": {},
   "outputs": [],
   "source": [
    "### Word and Phrase Finder\n",
    "def finder_woph(data, words):\n",
    "    for word in words:\n",
    "        for phrase in data:\n",
    "            if any(re.findall(word, phrase)):\n",
    "                print(\"Found\")\n",
    "                print(phrase)"
   ]
  },
  {
   "cell_type": "code",
   "execution_count": 8,
   "metadata": {},
   "outputs": [],
   "source": [
    "search_words = [\"Goodbye\"]"
   ]
  },
  {
   "cell_type": "code",
   "execution_count": 9,
   "metadata": {},
   "outputs": [
    {
     "name": "stdout",
     "output_type": "stream",
     "text": [
      "Found\n",
      "Goodbye!\tさようなら！\n",
      "\n",
      "Found\n",
      "Goodbye!\tさようなら。\n",
      "\n"
     ]
    }
   ],
   "source": [
    "finder_woph(data,search_words)"
   ]
  },
  {
   "cell_type": "code",
   "execution_count": 10,
   "metadata": {},
   "outputs": [],
   "source": [
    "search_words_2 = [\"Cool\"]"
   ]
  },
  {
   "cell_type": "code",
   "execution_count": 11,
   "metadata": {},
   "outputs": [
    {
     "name": "stdout",
     "output_type": "stream",
     "text": [
      "Found\n",
      "Cool off!\t頭を冷やせ。\n",
      "\n",
      "Found\n",
      "Cool down.\t落ち着いて。\n",
      "\n",
      "Found\n",
      "Cool down.\t頭を冷やせ。\n",
      "\n"
     ]
    }
   ],
   "source": [
    "finder_woph(data,search_words_2)"
   ]
  },
  {
   "cell_type": "markdown",
   "metadata": {},
   "source": [
    "## Set some global variables for the model\n",
    "\n",
    "1. Batch Size number of training examples for one iteration\n",
    "\n",
    "2. Epochs number of iterations to train for\n",
    "\n",
    "3. latent dim is the latent dimensionality of the encoder space for the state sequence used by the decoder\n",
    "\n",
    "4. num samples if the number of word samples to train on"
   ]
  },
  {
   "cell_type": "code",
   "execution_count": 12,
   "metadata": {},
   "outputs": [],
   "source": [
    "batch_size = 64\n",
    "epochs = 100\n",
    "latent_dim = 256\n",
    "num_samples = 10000"
   ]
  },
  {
   "cell_type": "markdown",
   "metadata": {},
   "source": [
    "## Vectorize the data."
   ]
  },
  {
   "cell_type": "code",
   "execution_count": 13,
   "metadata": {},
   "outputs": [],
   "source": [
    "input_texts = []\n",
    "target_texts = []\n",
    "input_characters = set()\n",
    "target_characters = set()\n",
    "\n",
    "# Loop over the lines and seperate using a tab for the input and output for translation\n",
    "with open(data_path, 'r', encoding='utf-8') as f:\n",
    "    lines = f.read().split('\\n')\n",
    "for line in lines[: min(num_samples, len(lines) - 1)]: \n",
    "    input_text, target_text = line.split('\\t')\n",
    "    \n",
    "    # Define start and end sequence of character\n",
    "    target_text = '\\t' + target_text + '\\n'\n",
    "    input_texts.append(input_text)\n",
    "    target_texts.append(target_text)\n",
    "    \n",
    "    # Create set of all unique characters for the input\n",
    "    for char in input_text:\n",
    "        if char not in input_characters:\n",
    "            input_characters.add(char)\n",
    "            \n",
    "    # Create set of all unique characters for the output      \n",
    "    for char in target_text:\n",
    "        if char not in target_characters:\n",
    "            target_characters.add(char)"
   ]
  },
  {
   "cell_type": "code",
   "execution_count": 14,
   "metadata": {},
   "outputs": [],
   "source": [
    "input_characters = sorted(list(input_characters))\n",
    "target_characters = sorted(list(target_characters))\n",
    "num_encoder_tokens = len(input_characters)\n",
    "num_decoder_tokens = len(target_characters)\n",
    "max_encoder_seq_length = max([len(txt) for txt in input_texts])\n",
    "max_decoder_seq_length = max([len(txt) for txt in target_texts])"
   ]
  },
  {
   "cell_type": "code",
   "execution_count": 15,
   "metadata": {},
   "outputs": [
    {
     "name": "stdout",
     "output_type": "stream",
     "text": [
      "Number of samples: 10000\n",
      "Number of unique input tokens: 72\n",
      "Number of unique output tokens: 1483\n",
      "Max sequence length for inputs: 22\n",
      "Max sequence length for outputs: 32\n"
     ]
    }
   ],
   "source": [
    "print('Number of samples:', len(input_texts))\n",
    "print('Number of unique input tokens:', num_encoder_tokens)\n",
    "print('Number of unique output tokens:', num_decoder_tokens)\n",
    "print('Max sequence length for inputs:', max_encoder_seq_length)\n",
    "print('Max sequence length for outputs:', max_decoder_seq_length)"
   ]
  },
  {
   "cell_type": "code",
   "execution_count": 16,
   "metadata": {},
   "outputs": [],
   "source": [
    "input_token_index = dict([(char, i) for i, char in enumerate(input_characters)])\n",
    "\n",
    "target_token_index = dict([(char, i) for i, char in enumerate(target_characters)])"
   ]
  },
  {
   "cell_type": "markdown",
   "metadata": {},
   "source": [
    "## Need to define the 3D array shape of the encoder and decoder\n",
    "\n",
    "#### 3D Array shape for input is (num_pairs, max_encode_sentence_length, num_encode_characters)\n",
    "\n",
    "#### 3D Array shape for output is (num_pairs, max_decode_sentence_length, num_decode_characters)\n",
    "\n",
    "#### Need to then offset the decoder target data by one timestep for training and translation\n",
    "\n"
   ]
  },
  {
   "cell_type": "code",
   "execution_count": 17,
   "metadata": {},
   "outputs": [],
   "source": [
    "encoder_input_data = np.zeros((len(input_texts), max_encoder_seq_length, num_encoder_tokens),dtype='float32')\n",
    "\n",
    "decoder_input_data = np.zeros((len(input_texts), max_decoder_seq_length, num_decoder_tokens),dtype='float32')\n",
    "\n",
    "decoder_target_data = np.zeros((len(input_texts), max_decoder_seq_length, num_decoder_tokens),dtype='float32')"
   ]
  },
  {
   "cell_type": "markdown",
   "metadata": {},
   "source": [
    "## Create input and output text\n",
    "\n",
    "#### decoder_target_data is ahead of decoder_input_data by one timestep\n",
    "\n",
    "#### decoder_target_data will be ahead by one timestep and will not include the start character."
   ]
  },
  {
   "cell_type": "code",
   "execution_count": 18,
   "metadata": {},
   "outputs": [],
   "source": [
    "for i, (input_text, target_text) in enumerate(zip(input_texts, target_texts)):\n",
    "    for t, char in enumerate(input_text):\n",
    "        encoder_input_data[i, t, input_token_index[char]] = 1.\n",
    "    for t, char in enumerate(target_text):\n",
    "        decoder_input_data[i, t, target_token_index[char]] = 1.\n",
    "        if t > 0:\n",
    "            decoder_target_data[i, t - 1, target_token_index[char]] = 1."
   ]
  },
  {
   "cell_type": "markdown",
   "metadata": {},
   "source": [
    "## Define an input sequence and process it.\n",
    "\n",
    "#### We are only keeping the states from the encoder as to feed to the decoder"
   ]
  },
  {
   "cell_type": "code",
   "execution_count": 19,
   "metadata": {},
   "outputs": [],
   "source": [
    "\n",
    "encoder_inputs = Input(shape=(None, num_encoder_tokens))\n",
    "\n",
    "encoder = CuDNNLSTM(latent_dim, return_state=True)\n",
    "\n",
    "encoder_outputs, state_h, state_c = encoder(encoder_inputs)\n",
    "\n",
    "encoder_states = [state_h, state_c]"
   ]
  },
  {
   "cell_type": "markdown",
   "metadata": {},
   "source": [
    "## Set up the decoder, using `encoder_states` as initial state.\n",
    "\n",
    "## Set the decoder to return full output sequences, and to return internal states as well. We don't use the return states in the training model, but we will use them in inference."
   ]
  },
  {
   "cell_type": "code",
   "execution_count": 20,
   "metadata": {},
   "outputs": [],
   "source": [
    "\n",
    "decoder_inputs = Input(shape=(None, num_decoder_tokens))\n",
    "\n",
    "decoder_lstm = CuDNNLSTM(latent_dim, return_sequences=True, return_state=True)\n",
    "decoder_outputs, _, _ = decoder_lstm(decoder_inputs,\n",
    "                                     initial_state=encoder_states)\n",
    "decoder_dense = Dense(num_decoder_tokens, activation='softmax')\n",
    "decoder_outputs = decoder_dense(decoder_outputs)"
   ]
  },
  {
   "cell_type": "markdown",
   "metadata": {},
   "source": [
    "## Define the model that will turn\n",
    "## `encoder_input_data` & `decoder_input_data` into `decoder_target_data`"
   ]
  },
  {
   "cell_type": "code",
   "execution_count": 21,
   "metadata": {},
   "outputs": [],
   "source": [
    "model = Model([encoder_inputs, decoder_inputs], decoder_outputs)"
   ]
  },
  {
   "cell_type": "code",
   "execution_count": 22,
   "metadata": {},
   "outputs": [
    {
     "name": "stdout",
     "output_type": "stream",
     "text": [
      "__________________________________________________________________________________________________\n",
      "Layer (type)                    Output Shape         Param #     Connected to                     \n",
      "==================================================================================================\n",
      "input_1 (InputLayer)            (None, None, 72)     0                                            \n",
      "__________________________________________________________________________________________________\n",
      "input_2 (InputLayer)            (None, None, 1483)   0                                            \n",
      "__________________________________________________________________________________________________\n",
      "cu_dnnlstm_1 (CuDNNLSTM)        [(None, 256), (None, 337920      input_1[0][0]                    \n",
      "__________________________________________________________________________________________________\n",
      "cu_dnnlstm_2 (CuDNNLSTM)        [(None, None, 256),  1782784     input_2[0][0]                    \n",
      "                                                                 cu_dnnlstm_1[0][1]               \n",
      "                                                                 cu_dnnlstm_1[0][2]               \n",
      "__________________________________________________________________________________________________\n",
      "dense_1 (Dense)                 (None, None, 1483)   381131      cu_dnnlstm_2[0][0]               \n",
      "==================================================================================================\n",
      "Total params: 2,501,835\n",
      "Trainable params: 2,501,835\n",
      "Non-trainable params: 0\n",
      "__________________________________________________________________________________________________\n"
     ]
    }
   ],
   "source": [
    "model.summary()"
   ]
  },
  {
   "cell_type": "markdown",
   "metadata": {},
   "source": [
    "## Run model training and save model"
   ]
  },
  {
   "cell_type": "code",
   "execution_count": 23,
   "metadata": {
    "scrolled": false
   },
   "outputs": [
    {
     "name": "stdout",
     "output_type": "stream",
     "text": [
      "Train on 8000 samples, validate on 2000 samples\n",
      "Epoch 1/100\n",
      "8000/8000 [==============================] - 15s 2ms/step - loss: 1.4531 - val_loss: 1.6820\n",
      "Epoch 2/100\n",
      "8000/8000 [==============================] - 12s 1ms/step - loss: 1.3040 - val_loss: 1.5137\n",
      "Epoch 3/100\n",
      "8000/8000 [==============================] - 12s 1ms/step - loss: 1.1633 - val_loss: 1.3907\n",
      "Epoch 4/100\n",
      "8000/8000 [==============================] - 12s 1ms/step - loss: 1.0654 - val_loss: 1.3127\n",
      "Epoch 5/100\n",
      "8000/8000 [==============================] - 11s 1ms/step - loss: 0.9910 - val_loss: 1.2496\n",
      "Epoch 6/100\n",
      "8000/8000 [==============================] - 11s 1ms/step - loss: 0.9318 - val_loss: 1.2065\n",
      "Epoch 7/100\n",
      "8000/8000 [==============================] - 11s 1ms/step - loss: 0.8842 - val_loss: 1.1754\n",
      "Epoch 8/100\n",
      "8000/8000 [==============================] - 10s 1ms/step - loss: 0.8430 - val_loss: 1.1393\n",
      "Epoch 9/100\n",
      "8000/8000 [==============================] - 10s 1ms/step - loss: 0.8058 - val_loss: 1.1106\n",
      "Epoch 10/100\n",
      "8000/8000 [==============================] - 10s 1ms/step - loss: 0.7722 - val_loss: 1.0893\n",
      "Epoch 11/100\n",
      "8000/8000 [==============================] - 10s 1ms/step - loss: 0.7406 - val_loss: 1.0755\n",
      "Epoch 12/100\n",
      "8000/8000 [==============================] - 11s 1ms/step - loss: 0.7110 - val_loss: 1.0662\n",
      "Epoch 13/100\n",
      "8000/8000 [==============================] - 10s 1ms/step - loss: 0.6838 - val_loss: 1.0439\n",
      "Epoch 14/100\n",
      "8000/8000 [==============================] - 10s 1ms/step - loss: 0.6574 - val_loss: 1.0437\n",
      "Epoch 15/100\n",
      "8000/8000 [==============================] - 10s 1ms/step - loss: 0.6329 - val_loss: 1.0261\n",
      "Epoch 16/100\n",
      "8000/8000 [==============================] - 10s 1ms/step - loss: 0.6095 - val_loss: 1.0189\n",
      "Epoch 17/100\n",
      "8000/8000 [==============================] - 10s 1ms/step - loss: 0.5873 - val_loss: 1.0133\n",
      "Epoch 18/100\n",
      "8000/8000 [==============================] - 10s 1ms/step - loss: 0.5660 - val_loss: 1.0106\n",
      "Epoch 19/100\n",
      "8000/8000 [==============================] - 10s 1ms/step - loss: 0.5456 - val_loss: 1.0118\n",
      "Epoch 20/100\n",
      "8000/8000 [==============================] - 10s 1ms/step - loss: 0.5256 - val_loss: 1.0129\n",
      "Epoch 21/100\n",
      "8000/8000 [==============================] - 10s 1ms/step - loss: 0.5060 - val_loss: 1.0072\n",
      "Epoch 22/100\n",
      "8000/8000 [==============================] - 10s 1ms/step - loss: 0.4872 - val_loss: 1.0165\n",
      "Epoch 23/100\n",
      "8000/8000 [==============================] - 10s 1ms/step - loss: 0.4693 - val_loss: 1.0098\n",
      "Epoch 24/100\n",
      "8000/8000 [==============================] - 10s 1ms/step - loss: 0.4516 - val_loss: 1.0132\n",
      "Epoch 25/100\n",
      "8000/8000 [==============================] - 10s 1ms/step - loss: 0.4356 - val_loss: 1.0212\n",
      "Epoch 26/100\n",
      "8000/8000 [==============================] - 10s 1ms/step - loss: 0.4188 - val_loss: 1.0277\n",
      "Epoch 27/100\n",
      "8000/8000 [==============================] - 10s 1ms/step - loss: 0.4032 - val_loss: 1.0339\n",
      "Epoch 28/100\n",
      "8000/8000 [==============================] - 10s 1ms/step - loss: 0.3881 - val_loss: 1.0269\n",
      "Epoch 29/100\n",
      "8000/8000 [==============================] - 10s 1ms/step - loss: 0.3732 - val_loss: 1.0366\n",
      "Epoch 30/100\n",
      "8000/8000 [==============================] - 11s 1ms/step - loss: 0.3593 - val_loss: 1.0401\n",
      "Epoch 31/100\n",
      "8000/8000 [==============================] - 11s 1ms/step - loss: 0.3460 - val_loss: 1.0473\n",
      "Epoch 32/100\n",
      "8000/8000 [==============================] - 10s 1ms/step - loss: 0.3328 - val_loss: 1.0505\n",
      "Epoch 33/100\n",
      "8000/8000 [==============================] - 10s 1ms/step - loss: 0.3197 - val_loss: 1.0582\n",
      "Epoch 34/100\n",
      "8000/8000 [==============================] - 10s 1ms/step - loss: 0.3078 - val_loss: 1.0688\n",
      "Epoch 35/100\n",
      "8000/8000 [==============================] - 10s 1ms/step - loss: 0.2959 - val_loss: 1.0756\n",
      "Epoch 36/100\n",
      "8000/8000 [==============================] - 10s 1ms/step - loss: 0.2852 - val_loss: 1.0846\n",
      "Epoch 37/100\n",
      "8000/8000 [==============================] - 11s 1ms/step - loss: 0.2743 - val_loss: 1.0958\n",
      "Epoch 38/100\n",
      "8000/8000 [==============================] - 10s 1ms/step - loss: 0.2643 - val_loss: 1.0927\n",
      "Epoch 39/100\n",
      "8000/8000 [==============================] - 10s 1ms/step - loss: 0.2542 - val_loss: 1.1051\n",
      "Epoch 40/100\n",
      "8000/8000 [==============================] - 10s 1ms/step - loss: 0.2445 - val_loss: 1.1107\n",
      "Epoch 41/100\n",
      "8000/8000 [==============================] - 10s 1ms/step - loss: 0.2354 - val_loss: 1.1179\n",
      "Epoch 42/100\n",
      "8000/8000 [==============================] - 11s 1ms/step - loss: 0.2268 - val_loss: 1.1274\n",
      "Epoch 43/100\n",
      "8000/8000 [==============================] - 10s 1ms/step - loss: 0.2181 - val_loss: 1.1317\n",
      "Epoch 44/100\n",
      "8000/8000 [==============================] - 11s 1ms/step - loss: 0.2105 - val_loss: 1.1396\n",
      "Epoch 45/100\n",
      "8000/8000 [==============================] - 10s 1ms/step - loss: 0.2025 - val_loss: 1.1474\n",
      "Epoch 46/100\n",
      "8000/8000 [==============================] - 11s 1ms/step - loss: 0.1955 - val_loss: 1.1544\n",
      "Epoch 47/100\n",
      "8000/8000 [==============================] - 11s 1ms/step - loss: 0.1885 - val_loss: 1.1613\n",
      "Epoch 48/100\n",
      "8000/8000 [==============================] - 11s 1ms/step - loss: 0.1821 - val_loss: 1.1654\n",
      "Epoch 49/100\n",
      "8000/8000 [==============================] - 11s 1ms/step - loss: 0.1755 - val_loss: 1.1676\n",
      "Epoch 50/100\n",
      "8000/8000 [==============================] - 10s 1ms/step - loss: 0.1702 - val_loss: 1.1825\n",
      "Epoch 51/100\n",
      "8000/8000 [==============================] - 10s 1ms/step - loss: 0.1642 - val_loss: 1.1879\n",
      "Epoch 52/100\n",
      "8000/8000 [==============================] - 11s 1ms/step - loss: 0.1581 - val_loss: 1.1969\n",
      "Epoch 53/100\n",
      "8000/8000 [==============================] - 10s 1ms/step - loss: 0.1526 - val_loss: 1.2001\n",
      "Epoch 54/100\n",
      "8000/8000 [==============================] - 10s 1ms/step - loss: 0.1474 - val_loss: 1.2123\n",
      "Epoch 55/100\n",
      "8000/8000 [==============================] - 10s 1ms/step - loss: 0.1438 - val_loss: 1.2132\n",
      "Epoch 56/100\n",
      "8000/8000 [==============================] - 11s 1ms/step - loss: 0.1387 - val_loss: 1.2179\n",
      "Epoch 57/100\n",
      "8000/8000 [==============================] - 10s 1ms/step - loss: 0.1343 - val_loss: 1.2248\n",
      "Epoch 58/100\n",
      "8000/8000 [==============================] - 10s 1ms/step - loss: 0.1299 - val_loss: 1.2264\n",
      "Epoch 59/100\n",
      "8000/8000 [==============================] - 10s 1ms/step - loss: 0.1261 - val_loss: 1.2422\n",
      "Epoch 60/100\n",
      "8000/8000 [==============================] - 10s 1ms/step - loss: 0.1225 - val_loss: 1.2409\n",
      "Epoch 61/100\n",
      "8000/8000 [==============================] - 11s 1ms/step - loss: 0.1184 - val_loss: 1.2442\n",
      "Epoch 62/100\n",
      "8000/8000 [==============================] - 11s 1ms/step - loss: 0.1145 - val_loss: 1.2564\n",
      "Epoch 63/100\n",
      "8000/8000 [==============================] - 11s 1ms/step - loss: 0.1118 - val_loss: 1.2566\n",
      "Epoch 64/100\n",
      "8000/8000 [==============================] - 11s 1ms/step - loss: 0.1077 - val_loss: 1.2679\n",
      "Epoch 65/100\n",
      "8000/8000 [==============================] - 10s 1ms/step - loss: 0.1052 - val_loss: 1.2663\n",
      "Epoch 66/100\n",
      "8000/8000 [==============================] - 11s 1ms/step - loss: 0.1024 - val_loss: 1.2787\n",
      "Epoch 67/100\n",
      "8000/8000 [==============================] - 11s 1ms/step - loss: 0.0993 - val_loss: 1.2820\n",
      "Epoch 68/100\n",
      "8000/8000 [==============================] - 11s 1ms/step - loss: 0.0966 - val_loss: 1.2893\n",
      "Epoch 69/100\n",
      "8000/8000 [==============================] - 10s 1ms/step - loss: 0.0947 - val_loss: 1.2923\n",
      "Epoch 70/100\n",
      "8000/8000 [==============================] - 10s 1ms/step - loss: 0.0920 - val_loss: 1.2928\n",
      "Epoch 71/100\n",
      "8000/8000 [==============================] - 10s 1ms/step - loss: 0.0896 - val_loss: 1.2954\n",
      "Epoch 72/100\n",
      "8000/8000 [==============================] - 10s 1ms/step - loss: 0.0872 - val_loss: 1.3085\n",
      "Epoch 73/100\n",
      "8000/8000 [==============================] - 10s 1ms/step - loss: 0.0849 - val_loss: 1.3036\n",
      "Epoch 74/100\n",
      "8000/8000 [==============================] - 10s 1ms/step - loss: 0.0830 - val_loss: 1.3131\n",
      "Epoch 75/100\n",
      "8000/8000 [==============================] - 11s 1ms/step - loss: 0.0810 - val_loss: 1.3116\n",
      "Epoch 76/100\n",
      "8000/8000 [==============================] - 11s 1ms/step - loss: 0.0792 - val_loss: 1.3176\n",
      "Epoch 77/100\n",
      "8000/8000 [==============================] - 10s 1ms/step - loss: 0.0772 - val_loss: 1.3245\n",
      "Epoch 78/100\n"
     ]
    },
    {
     "name": "stdout",
     "output_type": "stream",
     "text": [
      "8000/8000 [==============================] - 10s 1ms/step - loss: 0.0756 - val_loss: 1.3246\n",
      "Epoch 79/100\n",
      "8000/8000 [==============================] - 10s 1ms/step - loss: 0.0734 - val_loss: 1.3256\n",
      "Epoch 80/100\n",
      "8000/8000 [==============================] - 11s 1ms/step - loss: 0.0720 - val_loss: 1.3370\n",
      "Epoch 81/100\n",
      "8000/8000 [==============================] - 11s 1ms/step - loss: 0.0711 - val_loss: 1.3367\n",
      "Epoch 82/100\n",
      "8000/8000 [==============================] - 10s 1ms/step - loss: 0.0688 - val_loss: 1.3414\n",
      "Epoch 83/100\n",
      "8000/8000 [==============================] - 11s 1ms/step - loss: 0.0676 - val_loss: 1.3436\n",
      "Epoch 84/100\n",
      "8000/8000 [==============================] - 11s 1ms/step - loss: 0.0667 - val_loss: 1.3486\n",
      "Epoch 85/100\n",
      "8000/8000 [==============================] - 11s 1ms/step - loss: 0.0652 - val_loss: 1.3570\n",
      "Epoch 86/100\n",
      "8000/8000 [==============================] - 11s 1ms/step - loss: 0.0642 - val_loss: 1.3482\n",
      "Epoch 87/100\n",
      "8000/8000 [==============================] - 11s 1ms/step - loss: 0.0621 - val_loss: 1.3657\n",
      "Epoch 88/100\n",
      "8000/8000 [==============================] - 10s 1ms/step - loss: 0.0616 - val_loss: 1.3627\n",
      "Epoch 89/100\n",
      "8000/8000 [==============================] - 11s 1ms/step - loss: 0.0599 - val_loss: 1.3658\n",
      "Epoch 90/100\n",
      "8000/8000 [==============================] - 11s 1ms/step - loss: 0.0599 - val_loss: 1.3685\n",
      "Epoch 91/100\n",
      "8000/8000 [==============================] - 11s 1ms/step - loss: 0.0581 - val_loss: 1.3617\n",
      "Epoch 92/100\n",
      "8000/8000 [==============================] - 11s 1ms/step - loss: 0.0567 - val_loss: 1.3787\n",
      "Epoch 93/100\n",
      "8000/8000 [==============================] - 11s 1ms/step - loss: 0.0561 - val_loss: 1.3838\n",
      "Epoch 94/100\n",
      "8000/8000 [==============================] - 11s 1ms/step - loss: 0.0551 - val_loss: 1.3857\n",
      "Epoch 95/100\n",
      "8000/8000 [==============================] - 10s 1ms/step - loss: 0.0544 - val_loss: 1.3865\n",
      "Epoch 96/100\n",
      "8000/8000 [==============================] - 10s 1ms/step - loss: 0.0536 - val_loss: 1.3828\n",
      "Epoch 97/100\n",
      "8000/8000 [==============================] - 10s 1ms/step - loss: 0.0530 - val_loss: 1.3854\n",
      "Epoch 98/100\n",
      "8000/8000 [==============================] - 10s 1ms/step - loss: 0.0517 - val_loss: 1.3915\n",
      "Epoch 99/100\n",
      "8000/8000 [==============================] - 11s 1ms/step - loss: 0.0513 - val_loss: 1.3920\n",
      "Epoch 100/100\n",
      "8000/8000 [==============================] - 10s 1ms/step - loss: 0.0502 - val_loss: 1.3962\n"
     ]
    },
    {
     "name": "stderr",
     "output_type": "stream",
     "text": [
      "c:\\users\\samorris\\anaconda3\\lib\\site-packages\\keras\\engine\\network.py:877: UserWarning: Layer cu_dnnlstm_2 was passed non-serializable keyword arguments: {'initial_state': [<tf.Tensor 'cu_dnnlstm_1/strided_slice_16:0' shape=(?, 256) dtype=float32>, <tf.Tensor 'cu_dnnlstm_1/strided_slice_17:0' shape=(?, 256) dtype=float32>]}. They will not be included in the serialized model (and thus will be missing at deserialization time).\n",
      "  '. They will not be included '\n"
     ]
    }
   ],
   "source": [
    "\n",
    "model.compile(optimizer='rmsprop', loss='categorical_crossentropy')\n",
    "history = model.fit([encoder_input_data, decoder_input_data], decoder_target_data,\n",
    "          batch_size=batch_size,\n",
    "          epochs=epochs,\n",
    "          validation_split=0.2)\n",
    "\n",
    "model.save('s2s.h5')"
   ]
  },
  {
   "cell_type": "code",
   "execution_count": 24,
   "metadata": {},
   "outputs": [
    {
     "data": {
      "image/png": "[encoded data removed]",
      "text/plain": [
       "<Figure size 720x504 with 1 Axes>"
      ]
     },
     "metadata": {},
     "output_type": "display_data"
    }
   ],
   "source": [
    "import matplotlib.pyplot as plt\n",
    "plt.figure(figsize=(10,7))\n",
    "a, = plt.plot(history.history['loss'],label='Training Loss')\n",
    "b, = plt.plot(history.history['val_loss'],label='Validation Loss')\n",
    "plt.legend(handles=[a,b])\n",
    "plt.show()"
   ]
  },
  {
   "cell_type": "markdown",
   "metadata": {},
   "source": [
    "## Create Inference Models"
   ]
  },
  {
   "cell_type": "code",
   "execution_count": 25,
   "metadata": {},
   "outputs": [],
   "source": [
    "encoder_model = Model(encoder_inputs, encoder_states)\n",
    "\n",
    "decoder_state_input_h = Input(shape=(latent_dim,))\n",
    "decoder_state_input_c = Input(shape=(latent_dim,))\n",
    "decoder_states_inputs = [decoder_state_input_h, decoder_state_input_c]\n",
    "decoder_outputs, state_h, state_c = decoder_lstm(\n",
    "    decoder_inputs, initial_state=decoder_states_inputs)\n",
    "decoder_states = [state_h, state_c]\n",
    "decoder_outputs = decoder_dense(decoder_outputs)\n",
    "decoder_model = Model(\n",
    "    [decoder_inputs] + decoder_states_inputs,\n",
    "    [decoder_outputs] + decoder_states)"
   ]
  },
  {
   "cell_type": "markdown",
   "metadata": {},
   "source": [
    "## Reverse-lookup token index to decode sequences back to something readable."
   ]
  },
  {
   "cell_type": "code",
   "execution_count": 26,
   "metadata": {},
   "outputs": [],
   "source": [
    "\n",
    "reverse_input_char_index = dict((i, char) for char, i in input_token_index.items())\n",
    "\n",
    "reverse_target_char_index = dict((i, char) for char, i in target_token_index.items())\n"
   ]
  },
  {
   "cell_type": "markdown",
   "metadata": {},
   "source": [
    "## Create decoder sequence function"
   ]
  },
  {
   "cell_type": "code",
   "execution_count": 27,
   "metadata": {},
   "outputs": [],
   "source": [
    "def decode_sequence(input_seq):\n",
    "    # Encode the input as state vectors.\n",
    "    states_value = encoder_model.predict(input_seq)\n",
    "\n",
    "    # Generate empty target sequence of length 1.\n",
    "    target_seq = np.zeros((1, 1, num_decoder_tokens))\n",
    "    # Populate the first character of target sequence with the start character.\n",
    "    target_seq[0, 0, target_token_index['\\t']] = 1.\n",
    "\n",
    "    # Sampling loop for a batch of sequences\n",
    "    # (to simplify, here we assume a batch of size 1).\n",
    "    stop_condition = False\n",
    "    decoded_sentence = ''\n",
    "    while not stop_condition:\n",
    "        output_tokens, h, c = decoder_model.predict(\n",
    "            [target_seq] + states_value)\n",
    "\n",
    "        # Sample a token\n",
    "        sampled_token_index = np.argmax(output_tokens[0, -1, :])\n",
    "        sampled_char = reverse_target_char_index[sampled_token_index]\n",
    "        decoded_sentence += sampled_char\n",
    "\n",
    "        # Exit condition: either hit max length\n",
    "        # or find stop character.\n",
    "        if (sampled_char == '\\n' or\n",
    "           len(decoded_sentence) > max_decoder_seq_length):\n",
    "            stop_condition = True\n",
    "\n",
    "        # Update the target sequence (of length 1).\n",
    "        target_seq = np.zeros((1, 1, num_decoder_tokens))\n",
    "        target_seq[0, 0, sampled_token_index] = 1.\n",
    "\n",
    "        # Update states\n",
    "        states_value = [h, c]\n",
    "\n",
    "    return decoded_sentence"
   ]
  },
  {
   "cell_type": "markdown",
   "metadata": {},
   "source": [
    "### Test the decoder output using one sequence from the training set"
   ]
  },
  {
   "cell_type": "code",
   "execution_count": 113,
   "metadata": {},
   "outputs": [
    {
     "name": "stdout",
     "output_type": "stream",
     "text": [
      "-\n",
      "Input sentence: Hi.\n",
      "Decoded sentence: こんにちは！\n",
      "\n",
      "-\n",
      "Input sentence: Run.\n",
      "Decoded sentence: 走って！\n",
      "\n",
      "-\n",
      "Input sentence: Run.\n",
      "Decoded sentence: 走って！\n",
      "\n",
      "-\n",
      "Input sentence: Who?\n",
      "Decoded sentence: 誰？\n",
      "\n",
      "-\n",
      "Input sentence: Wow!\n",
      "Decoded sentence: ワォ！\n",
      "\n",
      "-\n",
      "Input sentence: Wow!\n",
      "Decoded sentence: ワォ！\n",
      "\n",
      "-\n",
      "Input sentence: Wow!\n",
      "Decoded sentence: ワォ！\n",
      "\n",
      "-\n",
      "Input sentence: Fire!\n",
      "Decoded sentence: 火事！\n",
      "\n",
      "-\n",
      "Input sentence: Fire!\n",
      "Decoded sentence: 火事！\n",
      "\n"
     ]
    }
   ],
   "source": [
    "for seq_index in range(1,10):\n",
    "    input_seq = encoder_input_data[seq_index: seq_index + 1]\n",
    "    decoded_sentence = decode_sequence(input_seq)\n",
    "    print('-')\n",
    "    print('Input sentence:', input_texts[seq_index])\n",
    "    print('Decoded sentence:', decoded_sentence)"
   ]
  },
  {
   "cell_type": "markdown",
   "metadata": {},
   "source": [
    "### Now lets make a custom data loader for translation"
   ]
  },
  {
   "cell_type": "code",
   "execution_count": 120,
   "metadata": {},
   "outputs": [],
   "source": [
    "english_text_1 = \"Hi\""
   ]
  },
  {
   "cell_type": "code",
   "execution_count": 121,
   "metadata": {},
   "outputs": [],
   "source": [
    "def translate(text):\n",
    "    translate = np.zeros((1,len(text)+10,num_encoder_tokens))\n",
    "    for i, char in enumerate(text):\n",
    "        print(i,char, input_token_index[char])\n",
    "        translate[0,i,input_token_index[char]] = 1\n",
    "    japanese = decode_sequence(translate)\n",
    "    print(japanese)"
   ]
  },
  {
   "cell_type": "code",
   "execution_count": 122,
   "metadata": {},
   "outputs": [
    {
     "name": "stdout",
     "output_type": "stream",
     "text": [
      "0 H 27\n",
      "1 i 53\n",
      "負けた。\n",
      "\n"
     ]
    }
   ],
   "source": [
    "translate(english_text_1)"
   ]
  },
  {
   "cell_type": "markdown",
   "metadata": {},
   "source": [
    "## I think it needs some work, but for a first prototype it is not too bad...."
   ]
  },
  {
   "cell_type": "code",
   "execution_count": null,
   "metadata": {},
   "outputs": [],
   "source": []
  }
 ],
 "metadata": {
  "kernelspec": {
   "display_name": "Python 3",
   "language": "python",
   "name": "python3"
  },
  "language_info": {
   "codemirror_mode": {
    "name": "ipython",
    "version": 3
   },
   "file_extension": ".py",
   "mimetype": "text/x-python",
   "name": "python",
   "nbconvert_exporter": "python",
   "pygments_lexer": "ipython3",
   "version": "3.5.5"
  }
 },
 "nbformat": 4,
 "nbformat_minor": 2
}
